{
 "cells": [
  {
   "cell_type": "markdown",
   "id": "8ce2c501",
   "metadata": {},
   "source": [
    "## Задание 1"
   ]
  },
  {
   "cell_type": "code",
   "execution_count": 17,
   "id": "e693a5d6",
   "metadata": {},
   "outputs": [],
   "source": [
    "from datetime import datetime"
   ]
  },
  {
   "cell_type": "code",
   "execution_count": 9,
   "id": "a7da29fa",
   "metadata": {},
   "outputs": [
    {
     "name": "stdout",
     "output_type": "stream",
     "text": [
      "The Moscow Times - 2002-10-02 00:00:00\n"
     ]
    }
   ],
   "source": [
    "d_1 = datetime.strptime('Wednesday, October 2, 2002', '%A, %B %d, %Y')\n",
    "print(f\"The Moscow Times - {d_1}\")"
   ]
  },
  {
   "cell_type": "code",
   "execution_count": 10,
   "id": "3e83aa08",
   "metadata": {},
   "outputs": [
    {
     "name": "stdout",
     "output_type": "stream",
     "text": [
      "The Guardian - 2013-11-10 00:00:00\n"
     ]
    }
   ],
   "source": [
    "d_2 = datetime.strptime('Friday, 11.10.13', '%A, %m.%d.%y')\n",
    "print(f\"The Guardian - {d_2}\")"
   ]
  },
  {
   "cell_type": "code",
   "execution_count": 8,
   "id": "3d391d44",
   "metadata": {},
   "outputs": [
    {
     "name": "stdout",
     "output_type": "stream",
     "text": [
      "Daily News - 1977-08-18 00:00:00\n"
     ]
    }
   ],
   "source": [
    "d_3 = datetime.strptime('Thursday, 18 August 1977', '%A, %d %B %Y')\n",
    "print(f\"Daily News - {d_3}\")"
   ]
  },
  {
   "cell_type": "markdown",
   "id": "e2d34aa5",
   "metadata": {},
   "source": [
    "## Задание 2"
   ]
  },
  {
   "cell_type": "code",
   "execution_count": 43,
   "id": "649d2129",
   "metadata": {},
   "outputs": [],
   "source": [
    "stream = ['2018-04-02', '2018-02-29', '2018-19-02']\n",
    "\n",
    "def validate(date_text):\n",
    "    try:\n",
    "        if date_text != datetime.strptime(date_text, \"%Y-%m-%d\").strftime('%Y-%m-%d'):\n",
    "            raise ValueError\n",
    "        return True\n",
    "    except ValueError:\n",
    "        return False"
   ]
  },
  {
   "cell_type": "code",
   "execution_count": 46,
   "id": "45c58fce",
   "metadata": {},
   "outputs": [
    {
     "data": {
      "text/plain": [
       "[True, False, False]"
      ]
     },
     "execution_count": 46,
     "metadata": {},
     "output_type": "execute_result"
    }
   ],
   "source": [
    "list(map(validate,stream))"
   ]
  },
  {
   "cell_type": "markdown",
   "id": "67f2fea2",
   "metadata": {},
   "source": [
    "## Задание 3"
   ]
  },
  {
   "cell_type": "code",
   "execution_count": 16,
   "id": "9bdf4a29",
   "metadata": {},
   "outputs": [],
   "source": [
    "from datetime import timedelta"
   ]
  },
  {
   "cell_type": "code",
   "execution_count": 18,
   "id": "3ace77eb",
   "metadata": {},
   "outputs": [
    {
     "name": "stdout",
     "output_type": "stream",
     "text": [
      "Введите начальную дату в формате YYYY-MM-DD: 2021-01-12\n",
      "Введите дату окончания в формате YYYY-MM-DD: 2021-02-05\n"
     ]
    },
    {
     "data": {
      "text/plain": [
       "['2021-01-13',\n",
       " '2021-01-14',\n",
       " '2021-01-15',\n",
       " '2021-01-16',\n",
       " '2021-01-17',\n",
       " '2021-01-18',\n",
       " '2021-01-19',\n",
       " '2021-01-20',\n",
       " '2021-01-21',\n",
       " '2021-01-22',\n",
       " '2021-01-23',\n",
       " '2021-01-24',\n",
       " '2021-01-25',\n",
       " '2021-01-26',\n",
       " '2021-01-27',\n",
       " '2021-01-28',\n",
       " '2021-01-29',\n",
       " '2021-01-30',\n",
       " '2021-01-31',\n",
       " '2021-02-01',\n",
       " '2021-02-02',\n",
       " '2021-02-03',\n",
       " '2021-02-04',\n",
       " '2021-02-05',\n",
       " '2021-02-06']"
      ]
     },
     "execution_count": 18,
     "metadata": {},
     "output_type": "execute_result"
    }
   ],
   "source": [
    "start_date = input('Введите начальную дату в формате YYYY-MM-DD: ')\n",
    "end_date = input('Введите дату окончания в формате YYYY-MM-DD: ')\n",
    "def date_range():\n",
    "    start_dt = datetime.strptime(start_date,'%Y-%m-%d')\n",
    "    end_dt = datetime.strptime(end_date,'%Y-%m-%d')\n",
    "    days = []\n",
    "    while start_dt <= end_dt:\n",
    "        start_dt += timedelta(days=1)\n",
    "        print_datetime = datetime.strftime(start_dt,'%Y-%m-%d')\n",
    "        days.append(print_datetime)\n",
    "        #print(print_datetime)\n",
    "    return(days)\n",
    "date_range()"
   ]
  }
 ],
 "metadata": {
  "kernelspec": {
   "display_name": "Python 3",
   "language": "python",
   "name": "python3"
  },
  "language_info": {
   "codemirror_mode": {
    "name": "ipython",
    "version": 3
   },
   "file_extension": ".py",
   "mimetype": "text/x-python",
   "name": "python",
   "nbconvert_exporter": "python",
   "pygments_lexer": "ipython3",
   "version": "3.8.8"
  }
 },
 "nbformat": 4,
 "nbformat_minor": 5
}
